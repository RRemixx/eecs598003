{
 "cells": [
  {
   "cell_type": "code",
   "execution_count": null,
   "metadata": {},
   "outputs": [],
   "source": [
    "import numpy as np\n",
    "import matplotlib.pyplot as plt\n",
    "from tqdm import tqdm"
   ]
  },
  {
   "cell_type": "code",
   "execution_count": null,
   "metadata": {},
   "outputs": [],
   "source": [
    "def gen_mask(length, p, prob_func='constant'):\n",
    "    \"\"\"\n",
    "    Call of prob_func gives 1 or 0 with certain probability.\n",
    "    \"\"\"\n",
    "    mask_mat = np.zeros((length, length))\n",
    "    for i in range(length):\n",
    "        for j in range(length):\n",
    "            if i >= j:\n",
    "                val = 0\n",
    "                r = np.random.uniform()\n",
    "                prob = 0\n",
    "                if prob_func == 'pn':\n",
    "                    prob = p\n",
    "                if prob_func == 'log':\n",
    "                    prob = p * np.log(length) / length\n",
    "                if prob_func == 'p':\n",
    "                    prob = p / length\n",
    "                if r <= prob:\n",
    "                    val = 1\n",
    "                mask_mat[i, j] = val\n",
    "                mask_mat[j, i] = val\n",
    "    return mask_mat\n",
    "\n",
    "\n",
    "def get_spectrum(n, theta, mask):\n",
    "    G = np.random.normal(size=(n, n))\n",
    "    X = (G + np.transpose(G)) / (2*n)**0.5\n",
    "    u = np.random.rand(n)\n",
    "    u = u / np.linalg.norm(u)\n",
    "    u = u[None, :]\n",
    "    X_tilda = X + theta * u * u.transpose()\n",
    "    X_bar = X_tilda * mask\n",
    "    eigvals, eigvecs = np.linalg.eig(X_bar)\n",
    "    idx = np.argmax(eigvals)\n",
    "    max_eigvec = eigvecs[:, idx]\n",
    "    inner_prod = np.inner(max_eigvec, u.reshape(-1))\n",
    "    return sorted(eigvals), inner_prod"
   ]
  },
  {
   "cell_type": "markdown",
   "metadata": {},
   "source": [
    "# Eigen-spectrum of $\\bar{X}$"
   ]
  },
  {
   "cell_type": "markdown",
   "metadata": {},
   "source": [
    "## d = p * n"
   ]
  },
  {
   "cell_type": "markdown",
   "metadata": {},
   "source": [
    "The first thing I want to check is how p changes the spectrum. So I selected p from 0 to 1 and plotted the spectrums."
   ]
  },
  {
   "cell_type": "code",
   "execution_count": null,
   "metadata": {},
   "outputs": [],
   "source": [
    "n = 100\n",
    "theta = 100\n",
    "ps = [0, 0.1, 0.2, 0.3, 0.4, 0.5, 0.6, 0.7, 0.8, 0.9, 1]\n",
    "eigvals_list = []\n",
    "ip_list = []\n",
    "for p in ps:\n",
    "    mask = gen_mask(n, p, 'pn')\n",
    "    eigvals, inner_prod = get_spectrum(n, theta, mask)\n",
    "    eigvals_list.append(eigvals)\n",
    "    ip_list.append(inner_prod)"
   ]
  },
  {
   "cell_type": "code",
   "execution_count": null,
   "metadata": {},
   "outputs": [],
   "source": [
    "for i in range(len(ps)):\n",
    "    plt.plot(eigvals_list[i], 'x', label=f'{ps[i]}')\n",
    "plt.legend()\n",
    "plt.show()"
   ]
  },
  {
   "cell_type": "markdown",
   "metadata": {},
   "source": [
    "It seems like the largest eigenvalues is propotional to p. And the range of the other eigenvalues increases and then decreases. To check the first hypothesis, I plotted max(eigvalues) v.s. p."
   ]
  },
  {
   "cell_type": "code",
   "execution_count": null,
   "metadata": {},
   "outputs": [],
   "source": [
    "largest_eigvals = []\n",
    "for eigvals in eigvals_list:\n",
    "    largest_eigvals.append(np.max(eigvals))\n",
    "plt.plot(ps, largest_eigvals)\n",
    "plt.xlabel('p')\n",
    "plt.ylabel('largest eigenvalue')\n",
    "plt.show()"
   ]
  },
  {
   "cell_type": "markdown",
   "metadata": {},
   "source": [
    "It looks like the largest eigenvalues are propotional to p. However, the curve is definitely not a straight line. I further checked whether these nonlinear parts are actually noise."
   ]
  },
  {
   "cell_type": "code",
   "execution_count": null,
   "metadata": {},
   "outputs": [],
   "source": [
    "n = 100\n",
    "theta = 100\n",
    "ps = [0, 0.1, 0.2, 0.3, 0.4, 0.5, 0.6, 0.7, 0.8, 0.9, 1]\n",
    "trials = 10\n",
    "for _ in range(trials):\n",
    "    eigvals_list = []\n",
    "    ip_list = []\n",
    "    for p in ps:\n",
    "        mask = gen_mask(n, p, 'pn')\n",
    "        eigvals, inner_prod = get_spectrum(n, theta, mask)\n",
    "        eigvals_list.append(eigvals)\n",
    "        ip_list.append(inner_prod)\n",
    "    largest_eigvals = []\n",
    "    for eigvals in eigvals_list:\n",
    "        largest_eigvals.append(np.max(eigvals))\n",
    "    plt.plot(ps, largest_eigvals)\n",
    "plt.xlabel('p')\n",
    "plt.ylabel('largest eigenvalue')\n",
    "plt.show()"
   ]
  },
  {
   "cell_type": "markdown",
   "metadata": {},
   "source": [
    "How about the other two probability functions?"
   ]
  },
  {
   "cell_type": "markdown",
   "metadata": {},
   "source": [
    "## d = p * log(n)"
   ]
  },
  {
   "cell_type": "code",
   "execution_count": null,
   "metadata": {},
   "outputs": [],
   "source": [
    "n = 100\n",
    "theta = 100\n",
    "ps = [0, 0.1, 0.2, 0.3, 0.4, 0.5, 0.6, 0.7, 0.8, 0.9, 1]\n",
    "trials = 10\n",
    "for _ in range(trials):\n",
    "    eigvals_list = []\n",
    "    ip_list = []\n",
    "    for p in ps:\n",
    "        mask = gen_mask(n, p, 'log')\n",
    "        eigvals, inner_prod = get_spectrum(n, theta, mask)\n",
    "        eigvals_list.append(eigvals)\n",
    "        ip_list.append(inner_prod)\n",
    "    largest_eigvals = []\n",
    "    for eigvals in eigvals_list:\n",
    "        largest_eigvals.append(np.real(np.max(eigvals)))\n",
    "    plt.plot(ps, largest_eigvals)\n",
    "plt.xlabel('p')\n",
    "plt.ylabel('largest eigenvalue')\n",
    "plt.show()"
   ]
  },
  {
   "cell_type": "markdown",
   "metadata": {},
   "source": [
    "Looks noisy. More trials and take mean value and larger n."
   ]
  },
  {
   "cell_type": "code",
   "execution_count": null,
   "metadata": {},
   "outputs": [],
   "source": [
    "n = 1000\n",
    "theta = 100\n",
    "ps = [0, 0.1, 0.2, 0.3, 0.4, 0.5, 0.6, 0.7, 0.8, 0.9, 1]\n",
    "trials = 5\n",
    "\n",
    "mean_largest_eigvals = np.zeros(len(ps))\n",
    "for _ in tqdm(range(trials)):\n",
    "    eigvals_list = []\n",
    "    ip_list = []\n",
    "    for p in ps:\n",
    "        mask = gen_mask(n, p, 'log')\n",
    "        eigvals, inner_prod = get_spectrum(n, theta, mask)\n",
    "        eigvals_list.append(eigvals)\n",
    "        ip_list.append(inner_prod)\n",
    "    largest_eigvals = []\n",
    "    for eigvals in eigvals_list:\n",
    "        largest_eigvals.append(np.real(np.max(eigvals)))\n",
    "    mean_largest_eigvals += np.array(largest_eigvals) / len(ps)\n",
    "plt.plot(ps, mean_largest_eigvals)\n",
    "plt.xlabel('p')\n",
    "plt.ylabel('mean largest eigenvalue')\n",
    "plt.show()"
   ]
  },
  {
   "cell_type": "markdown",
   "metadata": {},
   "source": [
    "## d = p"
   ]
  },
  {
   "cell_type": "code",
   "execution_count": null,
   "metadata": {},
   "outputs": [],
   "source": [
    "n = 1000\n",
    "theta = 100\n",
    "ps = [0, 0.1, 0.2, 0.3, 0.4, 0.5, 0.6, 0.7, 0.8, 0.9, 1]\n",
    "trials = 5\n",
    "\n",
    "mean_largest_eigvals = np.zeros(len(ps))\n",
    "for _ in tqdm(range(trials)):\n",
    "    eigvals_list = []\n",
    "    ip_list = []\n",
    "    for p in ps:\n",
    "        mask = gen_mask(n, p, 'p')\n",
    "        eigvals, inner_prod = get_spectrum(n, theta, mask)\n",
    "        eigvals_list.append(eigvals)\n",
    "        ip_list.append(inner_prod)\n",
    "    largest_eigvals = []\n",
    "    for eigvals in eigvals_list:\n",
    "        largest_eigvals.append(np.real(np.max(eigvals)))\n",
    "    mean_largest_eigvals += np.array(largest_eigvals) / len(ps)\n",
    "plt.plot(ps, mean_largest_eigvals)\n",
    "plt.xlabel('p')\n",
    "plt.ylabel('mean largest eigenvalue')\n",
    "plt.show()"
   ]
  },
  {
   "cell_type": "markdown",
   "metadata": {},
   "source": [
    "Still noisy. Is $\\theta$ too small? Test with other values."
   ]
  },
  {
   "cell_type": "markdown",
   "metadata": {},
   "source": [
    "# Inner product between u and leading eigenvector of $\\bar{X}$"
   ]
  },
  {
   "cell_type": "code",
   "execution_count": null,
   "metadata": {},
   "outputs": [],
   "source": [
    "def get_innerprods(trials, n, theta, ps, prob_func):\n",
    "    ips = np.zeros(len(ps))\n",
    "    for _ in tqdm(range(trials)):\n",
    "        ip_list = []\n",
    "        for p in ps:\n",
    "            mask = gen_mask(n, p, prob_func=prob_func)\n",
    "            _, inner_prod = get_spectrum(n, theta, mask)\n",
    "            ip_list.append(abs(inner_prod))\n",
    "        ips += np.array(ip_list) / trials\n",
    "    return ips\n",
    "ps = np.linspace(0, 1, 30)\n",
    "thetas = [1, 10, 100, 1000]"
   ]
  },
  {
   "cell_type": "markdown",
   "metadata": {},
   "source": [
    "## d = p * n"
   ]
  },
  {
   "cell_type": "code",
   "execution_count": null,
   "metadata": {},
   "outputs": [],
   "source": [
    "for theta in thetas:\n",
    "    ips = get_innerprods(trials=10, n=100, theta=100, ps=ps, prob_func='pn')\n",
    "    plt.plot(ps, ips, label=f'{theta}')\n",
    "plt.legend()\n",
    "plt.show()"
   ]
  },
  {
   "cell_type": "code",
   "execution_count": null,
   "metadata": {},
   "outputs": [],
   "source": [
    "trials = 100\n",
    "n = 200\n",
    "theta = 100\n",
    "ps = np.linspace(0, 1, 30)\n",
    "ips = np.zeros(len(ps))\n",
    "for _ in tqdm(range(trials)):\n",
    "    ip_list = []\n",
    "    for p in ps:\n",
    "        mask = gen_mask(n, p, 'log')\n",
    "        eigvals, inner_prod = get_spectrum(n, theta, mask)\n",
    "        ip_list.append(abs(inner_prod))\n",
    "    ips += np.array(ip_list) / trials\n",
    "plt.plot(ps, ips)\n",
    "plt.show()"
   ]
  },
  {
   "cell_type": "code",
   "execution_count": null,
   "metadata": {},
   "outputs": [],
   "source": [
    "trials = 100\n",
    "n = 200\n",
    "theta = 100\n",
    "ps = np.linspace(0, 1, 30)\n",
    "ips = np.zeros(len(ps))\n",
    "for _ in tqdm(range(trials)):\n",
    "    ip_list = []\n",
    "    for p in ps:\n",
    "        mask = gen_mask(n, p, 'p')\n",
    "        eigvals, inner_prod = get_spectrum(n, theta, mask)\n",
    "        ip_list.append(abs(inner_prod))\n",
    "    ips += np.array(ip_list) / trials\n",
    "plt.plot(ps, ips)\n",
    "plt.show()"
   ]
  }
 ],
 "metadata": {
  "kernelspec": {
   "display_name": "pid",
   "language": "python",
   "name": "python3"
  },
  "language_info": {
   "codemirror_mode": {
    "name": "ipython",
    "version": 3
   },
   "file_extension": ".py",
   "mimetype": "text/x-python",
   "name": "python",
   "nbconvert_exporter": "python",
   "pygments_lexer": "ipython3",
   "version": "3.8.0"
  }
 },
 "nbformat": 4,
 "nbformat_minor": 2
}
