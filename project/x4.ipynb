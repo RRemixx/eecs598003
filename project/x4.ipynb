{
 "cells": [
  {
   "cell_type": "code",
   "execution_count": null,
   "metadata": {},
   "outputs": [],
   "source": [
    "import numpy as np\n",
    "import matplotlib.pyplot as plt\n",
    "import torch\n",
    "import random\n",
    "\n",
    "from ts_pred_helper import *\n",
    "from model import *\n",
    "from data import *"
   ]
  },
  {
   "cell_type": "markdown",
   "metadata": {},
   "source": [
    "## Nonlinear model performance when using different number of neurons"
   ]
  },
  {
   "cell_type": "code",
   "execution_count": null,
   "metadata": {},
   "outputs": [],
   "source": [
    "iterations = 3\n",
    "model_names = ['LinearFFx4', 'FFx4', 'RNNx4', 'Transformerx4']\n",
    "\n",
    "# data generation\n",
    "init_seq = np.array([0.1, 0.2, 0.3])\n",
    "weights = np.array([0.1, 0.2, 0.7, 0.1])\n",
    "noise_func = gaussian_noise\n",
    "data = get_data(data_type='nonlinear_ar', init_seq=init_seq, weights=weights, noise_func=noise_func, normalize=False)\n",
    "\n",
    "# widths\n",
    "x_ticks = np.linspace(2, 8, 7)\n",
    "widths = [int(2**x_tick) for x_tick in x_ticks]\n",
    "\n",
    "def train_and_save(idx):\n",
    "    results = {}\n",
    "    for width in tqdm(widths):\n",
    "        models = [LinearFF(1, 3, width), FF(1, 3, width), RNN(1, width, 4, 1), Transformer(1, width, 2, 4, 3)]\n",
    "        results[width] = []\n",
    "        for i in range(iterations):\n",
    "            set_seed(i+1)\n",
    "            tys, pys = train_eval1(models[idx], data=data, window_size=3, epochs=200)\n",
    "            results[width].append((tys, pys))\n",
    "    pickle_save(f'results/{model_names[idx]}_res.pkl', results)\n",
    "\n",
    "\n",
    "def load_and_eval(idx, threhold):\n",
    "    ff_res = pickle_load(f'results/{model_names[idx]}_res.pkl')\n",
    "    x_ticks = []\n",
    "    ys1 = []\n",
    "    for key, res_list in ff_res.items():\n",
    "        x_ticks.append(np.log2(key))\n",
    "        cur_ys = []\n",
    "        for value in res_list:\n",
    "            tys, pys = value\n",
    "            cur_y = rmse(pys, tys)\n",
    "            if cur_y > threhold:\n",
    "                cur_y = threhold\n",
    "            cur_ys.append(cur_y)\n",
    "        ys1.append(np.mean(cur_ys))\n",
    "    return x_ticks, ys1"
   ]
  }
 ],
 "metadata": {
  "language_info": {
   "name": "python"
  }
 },
 "nbformat": 4,
 "nbformat_minor": 2
}
