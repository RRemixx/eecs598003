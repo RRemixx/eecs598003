{
 "cells": [
  {
   "cell_type": "code",
   "execution_count": 1,
   "metadata": {},
   "outputs": [
    {
     "name": "stderr",
     "output_type": "stream",
     "text": [
      "/home/asuka/anaconda3/envs/py3/lib/python3.7/site-packages/tqdm/auto.py:22: TqdmWarning: IProgress not found. Please update jupyter and ipywidgets. See https://ipywidgets.readthedocs.io/en/stable/user_install.html\n",
      "  from .autonotebook import tqdm as notebook_tqdm\n"
     ]
    }
   ],
   "source": [
    "import numpy as np\n",
    "import matplotlib.pyplot as plt\n",
    "import torch\n",
    "import random\n",
    "\n",
    "from ts_pred_helper import *\n",
    "from model import *\n",
    "from data import *"
   ]
  },
  {
   "cell_type": "markdown",
   "metadata": {},
   "source": [
    "# Data generated using AR-3"
   ]
  },
  {
   "cell_type": "code",
   "execution_count": 2,
   "metadata": {},
   "outputs": [],
   "source": [
    "# demo data\n",
    "# steps = 10000\n",
    "# init_seq = np.array([1, 2, 3])\n",
    "# weights = np.array([0.1001, 0.2, 0.7, 0.1])\n",
    "# noise_func = gaussian_noise\n",
    "# sim_data = ar_data_generator(init_seq, weights, noise_func, steps, normalize=True)\n",
    "# data = sim_data[100:, None]\n",
    "# plt.plot(data[:, 0])\n",
    "# plt.show()"
   ]
  },
  {
   "cell_type": "code",
   "execution_count": 2,
   "metadata": {},
   "outputs": [],
   "source": [
    "iterations = 3\n",
    "model_names = ['FF', 'RNN', 'Transformer']\n",
    "models = [FF(1, 3, 64), RNN(1, 64, 4, 1), Transformer(1, 64, 2, 4, 3)]\n",
    "init_seq = np.array([1, 2, 3])\n",
    "weights = np.array([0.1, 0.2, 0.7, 0.01])\n",
    "noise_func = gaussian_noise\n",
    "\n",
    "x_ticks = np.linspace(-5, 5, 20)\n",
    "noise_factors = [10**x_tick for x_tick in x_ticks]\n",
    "\n",
    "\n",
    "def train_and_save(idx):\n",
    "    results = {}\n",
    "    for noise_factor in tqdm(noise_factors):\n",
    "        weights[-1] = noise_factor\n",
    "        results[noise_factor] = []\n",
    "        for i in range(iterations):\n",
    "            set_seed(i+1)\n",
    "            tys, pys = train_eval(models[idx], init_seq, weights, gaussian_noise, epochs=200)\n",
    "            results[noise_factor].append((tys, pys))\n",
    "    pickle_save(f'results/{model_names[idx]}_res.pkl', results)\n",
    "\n",
    "\n",
    "def load_and_eval(idx, threhold):\n",
    "    ff_res = pickle_load(f'results/{model_names[idx]}_res.pkl')\n",
    "    x_ticks = []\n",
    "    ys1 = []\n",
    "    for key, res_list in ff_res.items():\n",
    "        x_ticks.append(np.log10(key))\n",
    "        cur_ys = []\n",
    "        for value in res_list:\n",
    "            tys, pys = value\n",
    "            cur_y = rmse(pys, tys)\n",
    "            if cur_y > threhold:\n",
    "                cur_y = threhold\n",
    "            cur_ys.append(cur_y)\n",
    "        ys1.append(np.mean(cur_ys))\n",
    "    return x_ticks, ys1\n",
    "\n",
    "\n",
    "# for idx in range(3):\n",
    "#     train_and_save(idx)"
   ]
  },
  {
   "cell_type": "code",
   "execution_count": 3,
   "metadata": {},
   "outputs": [
    {
     "data": {
      "image/png": "[encoded data removed]",
      "text/plain": [
       "<Figure size 640x480 with 1 Axes>"
      ]
     },
     "metadata": {},
     "output_type": "display_data"
    }
   ],
   "source": [
    "x_ticks = []\n",
    "threhold = 10\n",
    "model_names = ['LinearFF', 'FF', 'RNN', 'Transformer']\n",
    "for idx in range(4):\n",
    "    x_ticks, ys1 = load_and_eval(idx, threhold)\n",
    "    plt.plot(x_ticks, ys1, label=f'{model_names[idx]}')\n",
    "plt.legend()\n",
    "plt.show()"
   ]
  },
  {
   "cell_type": "markdown",
   "metadata": {},
   "source": [
    "# Data generated using multivariate transition matrix"
   ]
  },
  {
   "cell_type": "code",
   "execution_count": null,
   "metadata": {},
   "outputs": [],
   "source": [
    "init_data = np.array([1, 2, 3])\n",
    "theta = 0.01\n",
    "u = np.array([1, 1.1, 0.9])\n",
    "steps = 200\n",
    "dist_shift_factor = np.array([0.00, 0, 0.00])\n",
    "\n",
    "\n",
    "def noise_function():\n",
    "    return gaussian_noise(3)\n",
    "\n",
    "\n",
    "seq_data = multi_variate_data_generator(init_data, theta, u, noise_function, steps, dist_shift_factor)\n",
    "print(seq_data.shape)\n",
    "plt.plot(seq_data[:, 0], label='1')\n",
    "plt.plot(seq_data[:, 1], label='2')\n",
    "plt.plot(seq_data[:, 2], label='3')\n",
    "plt.legend()\n",
    "plt.show()"
   ]
  },
  {
   "cell_type": "code",
   "execution_count": null,
   "metadata": {},
   "outputs": [],
   "source": [
    "iterations = 3\n",
    "model_names = ['FF', 'RNN', 'Transformer']\n",
    "input_dim = 3\n",
    "seq_len = 3\n",
    "models = [FF(input_dim, seq_len, 64, output_dim=1), RNN(input_dim, 64, 4, output_dim=1), Transformer(input_dim, 64, 2, 4, seq_len, output_dim=1)]\n",
    "init_data = np.array([1, 2, 3])\n",
    "theta = 0.01\n",
    "u = np.array([1, 1.2, 0.8])\n",
    "dist_shift_factor = np.array([0, 0, 0])\n",
    "\n",
    "def noise_function():\n",
    "    return gaussian_noise(input_dim)\n",
    "\n",
    "x_ticks = np.linspace(-3, 3, 12)\n",
    "noise_factors = [10**x_tick for x_tick in x_ticks]\n",
    "\n",
    "\n",
    "def train_and_save(idx):\n",
    "    results = {}\n",
    "    for noise_factor in tqdm(noise_factors):\n",
    "        results[noise_factor] = []\n",
    "        for i in range(iterations):\n",
    "            set_seed(i+1)\n",
    "            tys, pys = train_eval(\n",
    "                model=models[idx], \n",
    "                init_seq=init_data, \n",
    "                weights=u, \n",
    "                noise_func=noise_function, \n",
    "                data_type='other',\n",
    "                theta=noise_factor,\n",
    "                dist_shift_factor=dist_shift_factor,\n",
    "                window_size=seq_len,\n",
    "                epochs=200,\n",
    "            )\n",
    "            results[noise_factor].append((tys, pys))\n",
    "    pickle_save(f'results/{model_names[idx]}_res_1.pkl', results)\n",
    "\n",
    "\n",
    "def load_and_eval(idx, threhold):\n",
    "    ff_res = pickle_load(f'results/{model_names[idx]}_res_1.pkl')\n",
    "    x_ticks = []\n",
    "    ys1 = []\n",
    "    for key, res_list in ff_res.items():\n",
    "        x_ticks.append(np.log10(key))\n",
    "        cur_ys = []\n",
    "        for value in res_list:\n",
    "            tys, pys = value\n",
    "            cur_y = rmse(pys, tys)\n",
    "            if cur_y > threhold:\n",
    "                cur_y = threhold\n",
    "            cur_ys.append(cur_y)\n",
    "        ys1.append(np.mean(cur_ys))\n",
    "    return x_ticks, ys1\n",
    "\n",
    "\n",
    "# for idx in range(3):\n",
    "#     train_and_save(idx)\n",
    "\n",
    "\n",
    "x_ticks = []\n",
    "threhold = 10\n",
    "\n",
    "for idx in range(3):\n",
    "    x_ticks, ys1 = load_and_eval(idx, threhold)\n",
    "    plt.plot(x_ticks, ys1, label=f'{model_names[idx]}')\n",
    "plt.legend()\n",
    "plt.show()"
   ]
  }
 ],
 "metadata": {
  "kernelspec": {
   "display_name": "pid",
   "language": "python",
   "name": "python3"
  },
  "language_info": {
   "codemirror_mode": {
    "name": "ipython",
    "version": 3
   },
   "file_extension": ".py",
   "mimetype": "text/x-python",
   "name": "python",
   "nbconvert_exporter": "python",
   "pygments_lexer": "ipython3",
   "version": "3.7.0"
  }
 },
 "nbformat": 4,
 "nbformat_minor": 2
}
