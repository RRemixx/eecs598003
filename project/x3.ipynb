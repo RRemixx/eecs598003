{
 "cells": [
  {
   "cell_type": "code",
   "execution_count": 1,
   "metadata": {},
   "outputs": [
    {
     "name": "stderr",
     "output_type": "stream",
     "text": [
      "/home/asuka/anaconda3/envs/py3/lib/python3.7/site-packages/tqdm/auto.py:22: TqdmWarning: IProgress not found. Please update jupyter and ipywidgets. See https://ipywidgets.readthedocs.io/en/stable/user_install.html\n",
      "  from .autonotebook import tqdm as notebook_tqdm\n"
     ]
    }
   ],
   "source": [
    "import numpy as np\n",
    "import matplotlib.pyplot as plt\n",
    "import torch\n",
    "import random\n",
    "\n",
    "from ts_pred_helper import *\n",
    "from model import *\n",
    "from data import *"
   ]
  },
  {
   "cell_type": "markdown",
   "metadata": {},
   "source": [
    "## Non-linear AR(3)"
   ]
  },
  {
   "cell_type": "code",
   "execution_count": null,
   "metadata": {},
   "outputs": [],
   "source": [
    "init_seq = np.array([0.1, 0.2, 0.3])\n",
    "weights = np.array([0.1, 0.2, 0.7, 0.01])\n",
    "noise_func = gaussian_noise\n",
    "data = get_data(data_type='nonlinear_ar', init_seq=init_seq, weights=weights, noise_func=noise_func, normalize=False)\n",
    "plt.plot(data[200:400, 0])\n",
    "plt.show()"
   ]
  },
  {
   "cell_type": "markdown",
   "metadata": {},
   "source": [
    "Model performance v.s. noise"
   ]
  },
  {
   "cell_type": "code",
   "execution_count": 4,
   "metadata": {},
   "outputs": [],
   "source": [
    "iterations = 3\n",
    "model_names = ['LinearFFx3', 'FFx3', 'RNNx3']\n",
    "models = [LinearFF(1, 3, 64), FF(1, 3, 64), RNN(1, 64, 4, 1), Transformer(1, 64, 2, 4, 3)]\n",
    "init_seq = np.array([0.1, 0.2, 0.3])\n",
    "weights = np.array([0.1, 0.2, 0.7, 0.01])\n",
    "noise_func = gaussian_noise\n",
    "\n",
    "x_ticks = np.linspace(-5, 5, 20)\n",
    "noise_factors = [10**x_tick for x_tick in x_ticks]\n",
    "\n",
    "\n",
    "def train_and_save(idx):\n",
    "    results = {}\n",
    "    for noise_factor in tqdm(noise_factors):\n",
    "        weights[-1] = noise_factor\n",
    "        results[noise_factor] = []\n",
    "        for i in range(iterations):\n",
    "            set_seed(i+1)\n",
    "            data = get_data(data_type='nonlinear_ar', init_seq=init_seq, weights=weights, noise_func=noise_func, normalize=False)\n",
    "            tys, pys = train_eval1(models[idx], data=data, window_size=3, epochs=200)\n",
    "            results[noise_factor].append((tys, pys))\n",
    "    pickle_save(f'results/{model_names[idx]}_res.pkl', results)\n",
    "\n",
    "\n",
    "def load_and_eval(idx, threhold):\n",
    "    ff_res = pickle_load(f'results/{model_names[idx]}_res.pkl')\n",
    "    x_ticks = []\n",
    "    ys1 = []\n",
    "    for key, res_list in ff_res.items():\n",
    "        x_ticks.append(np.log10(key))\n",
    "        cur_ys = []\n",
    "        for value in res_list:\n",
    "            tys, pys = value\n",
    "            cur_y = rmse(pys, tys)\n",
    "            if cur_y > threhold:\n",
    "                cur_y = threhold\n",
    "            cur_ys.append(cur_y)\n",
    "        ys1.append(np.mean(cur_ys))\n",
    "    return x_ticks, ys1"
   ]
  },
  {
   "cell_type": "code",
   "execution_count": null,
   "metadata": {},
   "outputs": [],
   "source": [
    "for idx in range(2):\n",
    "    train_and_save(idx+2)"
   ]
  },
  {
   "cell_type": "code",
   "execution_count": 6,
   "metadata": {},
   "outputs": [
    {
     "data": {
      "image/png": "[encoded data removed]",
      "text/plain": [
       "<Figure size 640x480 with 1 Axes>"
      ]
     },
     "metadata": {},
     "output_type": "display_data"
    }
   ],
   "source": [
    "x_ticks = []\n",
    "threhold = 20\n",
    "\n",
    "for idx in range(3):\n",
    "    x_ticks, ys1 = load_and_eval(idx, threhold)\n",
    "    plt.plot(x_ticks, ys1, label=f'{model_names[idx]}')\n",
    "plt.legend()\n",
    "plt.show()"
   ]
  }
 ],
 "metadata": {
  "kernelspec": {
   "display_name": "pid",
   "language": "python",
   "name": "python3"
  },
  "language_info": {
   "codemirror_mode": {
    "name": "ipython",
    "version": 3
   },
   "file_extension": ".py",
   "mimetype": "text/x-python",
   "name": "python",
   "nbconvert_exporter": "python",
   "pygments_lexer": "ipython3",
   "version": "3.7.0"
  }
 },
 "nbformat": 4,
 "nbformat_minor": 2
}
