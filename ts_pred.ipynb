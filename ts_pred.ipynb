{
 "cells": [
  {
   "cell_type": "code",
   "execution_count": 6,
   "metadata": {},
   "outputs": [],
   "source": [
    "import numpy as np\n",
    "import matplotlib.pyplot as plt\n",
    "import torch\n",
    "from torch.utils.data import DataLoader\n",
    "import torch.nn as nn"
   ]
  },
  {
   "cell_type": "code",
   "execution_count": 7,
   "metadata": {},
   "outputs": [],
   "source": [
    "# data prep\n",
    "def gaussian_noise():\n",
    "    return np.random.normal()\n",
    "\n",
    "\n",
    "def ar_data_generator(init_seq, weights, noise_func, steps=500, normalize=True):\n",
    "    \"\"\"Generate AR(n) simulation data.\n",
    "\n",
    "    Args:\n",
    "        init_seq (np.array): Initial values to start with. An AR(n) process should have n initial values.\n",
    "        weights (np.array): Weights on each prev time step and the noise term.\n",
    "        noise_func (func): Calling this noise function gives a random term.\n",
    "        steps (int): Length of the generated sequence.\n",
    "    \"\"\"\n",
    "    init_steps = len(init_seq)\n",
    "    sim_data = np.zeros(steps + init_steps)\n",
    "    sim_data[:init_steps] = init_seq\n",
    "    for i in range(steps):\n",
    "        cur_val = 0\n",
    "        for j in range(init_steps):\n",
    "            cur_val += weights[j] * sim_data[i+j]\n",
    "        cur_val += weights[-1] * noise_func()\n",
    "        sim_data[i+init_steps] = cur_val\n",
    "    sim_data = sim_data[init_steps:]\n",
    "    if normalize:\n",
    "        sim_data = (sim_data - np.mean(sim_data)) / np.std(sim_data)\n",
    "    return sim_data\n",
    "\n",
    "\n",
    "class SeqData(torch.utils.data.Dataset):\n",
    "    def __init__(self, X, y):\n",
    "        self.X = X\n",
    "        self.y = y\n",
    "\n",
    "    def __len__(self):\n",
    "        return len(self.y)\n",
    "\n",
    "    def __getitem__(self, idx):\n",
    "        return (self.X[idx, :], self.y[idx])\n",
    "\n",
    "\n",
    "def prepare_ts_ds(data, window_size, target_idx, train_size, val_size, test_size, batch_size):\n",
    "    \"\"\"Generate a time series dataset from simulation data.\n",
    "\n",
    "    Args:\n",
    "        data (np.array): Possible with F time series data of length N, in the shape of (N, F)\n",
    "        target_idx (int): The index of the feature to be predicted.\n",
    "        window_size (int)\n",
    "        train_size (int)\n",
    "        val_size (int)\n",
    "        test_size (int)\n",
    "    \"\"\"\n",
    "    data_len = len(data)\n",
    "    train_xs, train_ys, test_xs, test_ys = [], [], [], []\n",
    "    cur_test_num = 0\n",
    "    for i in range(data_len):\n",
    "        if i >= window_size:\n",
    "            if i < (train_size + val_size) * 1.5:\n",
    "                train_xs.append(data[i-window_size:i, :])\n",
    "                train_ys.append(data[i, target_idx])\n",
    "            elif cur_test_num < test_size:\n",
    "                cur_test_num += 1\n",
    "                test_xs.append(data[i-window_size:i, :])\n",
    "                test_ys.append(data[i, target_idx])\n",
    "            else:\n",
    "                break\n",
    "    train_xs = np.array(train_xs, dtype=np.float32)\n",
    "    train_ys = np.array(train_ys, dtype=np.float32)\n",
    "    test_xs = np.array(test_xs, dtype=np.float32)\n",
    "    test_ys = np.array(test_ys, dtype=np.float32)\n",
    "    dataset = SeqData(X=train_xs, y=train_ys)\n",
    "    test_dataset = SeqData(X=test_xs, y=test_ys)\n",
    "    train_dataset, val_dataset, _ = torch.utils.data.random_split(dataset, [train_size, val_size, len(dataset)-train_size-val_size])\n",
    "    train_dataloader = DataLoader(train_dataset, batch_size=batch_size ,shuffle=True)\n",
    "    val_dataloader = DataLoader(val_dataset, batch_size=batch_size, shuffle=True)\n",
    "    test_dataloader = DataLoader(test_dataset, batch_size=batch_size, shuffle=False)\n",
    "    return train_dataloader, val_dataloader, test_dataloader"
   ]
  },
  {
   "cell_type": "code",
   "execution_count": 8,
   "metadata": {},
   "outputs": [
    {
     "name": "stdout",
     "output_type": "stream",
     "text": [
      "[2.6001     2.62027    2.654509   ... 5.39712304 5.3975085  5.39789399]\n"
     ]
    },
    {
     "data": {
      "image/png": "[encoded data removed]",
      "text/plain": [
       "<Figure size 640x480 with 1 Axes>"
      ]
     },
     "metadata": {},
     "output_type": "display_data"
    }
   ],
   "source": [
    "# simulation data\n",
    "init_seq = np.array([1, 2, 3])\n",
    "weights = np.array([0.1001, 0.2, 0.7, 0])\n",
    "noise_func = gaussian_noise\n",
    "steps = 10000\n",
    "sim_data = ar_data_generator(init_seq, weights, noise_func, steps, normalize=False)\n",
    "data = sim_data[100:, None]\n",
    "print(sim_data)\n",
    "plt.plot(sim_data[:])\n",
    "plt.show()\n",
    "\n",
    "# dataloader\n",
    "train_dl, val_dl, test_dl = prepare_ts_ds(data, 3, 0, 2000, 500, 1000, 32)"
   ]
  },
  {
   "cell_type": "code",
   "execution_count": 9,
   "metadata": {},
   "outputs": [],
   "source": [
    "# models\n",
    "class FF(nn.Module):\n",
    "    def __init__(self, input_dim, seq_length, hidden_dim):\n",
    "        super(FF, self).__init__()\n",
    "        self.fc1 = nn.Linear(input_dim*seq_length, hidden_dim)\n",
    "        self.fc2 = nn.Linear(hidden_dim, hidden_dim)\n",
    "        self.fc3 = nn.Linear(hidden_dim, 1)\n",
    "        self.fc1 = nn.Linear(input_dim*seq_length, 1)\n",
    "        self.relu = nn.ReLU()\n",
    "\n",
    "    def forward(self, x):\n",
    "        # (batch size x seq length x input dim)\n",
    "        x = x.view(x.shape[0], -1)\n",
    "        x = self.fc1(x)\n",
    "        # x = self.relu(self.fc1(x))\n",
    "        # x = self.relu(self.fc2(x))\n",
    "        # x = self.fc3(x)\n",
    "        return x"
   ]
  },
  {
   "cell_type": "code",
   "execution_count": 10,
   "metadata": {},
   "outputs": [
    {
     "name": "stdout",
     "output_type": "stream",
     "text": [
      "val loss is 7.868220806121826\n",
      "val loss is 7.857760429382324\n"
     ]
    },
    {
     "name": "stderr",
     "output_type": "stream",
     "text": [
      "/home/asuka/anaconda3/envs/py3/lib/python3.7/site-packages/torch/nn/modules/loss.py:536: UserWarning: Using a target size (torch.Size([32, 1])) that is different to the input size (torch.Size([32])). This will likely lead to incorrect results due to broadcasting. Please ensure they have the same size.\n",
      "  return F.mse_loss(input, target, reduction=self.reduction)\n",
      "/home/asuka/anaconda3/envs/py3/lib/python3.7/site-packages/torch/nn/modules/loss.py:536: UserWarning: Using a target size (torch.Size([16, 1])) that is different to the input size (torch.Size([16])). This will likely lead to incorrect results due to broadcasting. Please ensure they have the same size.\n",
      "  return F.mse_loss(input, target, reduction=self.reduction)\n",
      "/home/asuka/anaconda3/envs/py3/lib/python3.7/site-packages/torch/nn/modules/loss.py:536: UserWarning: Using a target size (torch.Size([20, 1])) that is different to the input size (torch.Size([20])). This will likely lead to incorrect results due to broadcasting. Please ensure they have the same size.\n",
      "  return F.mse_loss(input, target, reduction=self.reduction)\n"
     ]
    },
    {
     "name": "stdout",
     "output_type": "stream",
     "text": [
      "val loss is 7.862363815307617\n",
      "val loss is 7.864699363708496\n",
      "val loss is 7.869464874267578\n",
      "val loss is 7.8536696434021\n",
      "val loss is 7.871915340423584\n",
      "val loss is 7.884244441986084\n",
      "val loss is 7.8614501953125\n",
      "val loss is 7.847826957702637\n"
     ]
    }
   ],
   "source": [
    "model = FF(1, 3, 16)\n",
    "learning_rate = 1e-4\n",
    "device = torch.device('cuda:0')\n",
    "epochs = 10\n",
    "\n",
    "model = model.to(device)\n",
    "optimizer = torch.optim.Adam(model.parameters(), lr=learning_rate)\n",
    "loss_fn = nn.MSELoss()\n",
    "\n",
    "for epoch in range(epochs):\n",
    "    model.train()\n",
    "    for batch in train_dl:\n",
    "        x, y = batch\n",
    "        x = x.to(device)\n",
    "        y = y.to(device)\n",
    "        y_pred = model(x)\n",
    "        loss = loss_fn(y, y_pred)\n",
    "        optimizer.zero_grad()\n",
    "        loss.backward()\n",
    "    model.eval()\n",
    "    val_losses = []\n",
    "    for batch in val_dl:\n",
    "        x, y = batch\n",
    "        x = x.to(device)\n",
    "        y = y.to(device)\n",
    "        y_pred = model(x)\n",
    "        loss = loss_fn(y, y_pred)\n",
    "        val_losses.append(loss.detach().cpu().numpy())\n",
    "    print(f'val loss is {np.mean(val_losses)}')"
   ]
  }
 ],
 "metadata": {
  "kernelspec": {
   "display_name": "pid",
   "language": "python",
   "name": "python3"
  },
  "language_info": {
   "codemirror_mode": {
    "name": "ipython",
    "version": 3
   },
   "file_extension": ".py",
   "mimetype": "text/x-python",
   "name": "python",
   "nbconvert_exporter": "python",
   "pygments_lexer": "ipython3",
   "version": "3.7.16"
  }
 },
 "nbformat": 4,
 "nbformat_minor": 2
}
